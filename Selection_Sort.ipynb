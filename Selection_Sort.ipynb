{
  "nbformat": 4,
  "nbformat_minor": 0,
  "metadata": {
    "colab": {
      "provenance": [],
      "authorship_tag": "ABX9TyOOt4MTNKJ6dwKoH323LS5f",
      "include_colab_link": true
    },
    "kernelspec": {
      "name": "python3",
      "display_name": "Python 3"
    },
    "language_info": {
      "name": "python"
    }
  },
  "cells": [
    {
      "cell_type": "markdown",
      "metadata": {
        "id": "view-in-github",
        "colab_type": "text"
      },
      "source": [
        "<a href=\"https://colab.research.google.com/github/SagarSharma1702/Laboratory-Practices-2/blob/main/Selection_Sort.ipynb\" target=\"_parent\"><img src=\"https://colab.research.google.com/assets/colab-badge.svg\" alt=\"Open In Colab\"/></a>"
      ]
    },
    {
      "cell_type": "markdown",
      "source": [
        "# Static Input"
      ],
      "metadata": {
        "id": "1wVlZwiae28T"
      }
    },
    {
      "cell_type": "code",
      "execution_count": 2,
      "metadata": {
        "colab": {
          "base_uri": "https://localhost:8080/"
        },
        "id": "W_PP1Z_8d8q9",
        "outputId": "e8f3f2c6-660c-4e28-cb4f-9afbd0559e24"
      },
      "outputs": [
        {
          "output_type": "stream",
          "name": "stdout",
          "text": [
            "[11, 12, 22, 25, 64]\n"
          ]
        }
      ],
      "source": [
        "def selection_sort(arr):\n",
        "    n = len(arr)\n",
        "    for i in range(n):\n",
        "        min_index = i\n",
        "        for j in range(i + 1, n):\n",
        "            if arr[j] < arr[min_index]:\n",
        "                min_index = j\n",
        "\n",
        "        arr[i], arr[min_index] = arr[min_index], arr[i]\n",
        "\n",
        "    return arr\n",
        "array = [64, 25, 12, 22, 11]\n",
        "sorted_array = selection_sort(array)\n",
        "print(sorted_array)"
      ]
    },
    {
      "cell_type": "markdown",
      "source": [
        "# With User Input at Runtime"
      ],
      "metadata": {
        "id": "jK0YjK0YesbL"
      }
    },
    {
      "cell_type": "code",
      "source": [
        "# Selection Sort program with input Taking from user \n",
        "def selection_sort(arr):\n",
        "    n = len(arr)\n",
        "    for i in range(n):\n",
        "        min_index = i\n",
        "        for j in range(i + 1, n):\n",
        "            if arr[j] < arr[min_index]:\n",
        "                min_index = j\n",
        "\n",
        "        arr[i], arr[min_index] = arr[min_index], arr[i]\n",
        "\n",
        "    return arr\n",
        "\n",
        "# Take input from the user\n",
        "input_str = input(\"Enter a list of numbers separated by spaces: \")\n",
        "input_list = input_str.split()\n",
        "array = [int(num) for num in input_list]\n",
        "\n",
        "# Call the selection_sort function\n",
        "sorted_array = selection_sort(array)\n",
        "print(\"Sorted array:\", sorted_array)"
      ],
      "metadata": {
        "colab": {
          "base_uri": "https://localhost:8080/"
        },
        "id": "CnQG10lUeYzu",
        "outputId": "1155532e-dc10-43d5-a413-48f2c4f2f704"
      },
      "execution_count": 3,
      "outputs": [
        {
          "output_type": "stream",
          "name": "stdout",
          "text": [
            "Enter a list of numbers separated by spaces: 64 25 12 22 11\n",
            "Sorted array: [11, 12, 22, 25, 64]\n"
          ]
        }
      ]
    }
  ]
}