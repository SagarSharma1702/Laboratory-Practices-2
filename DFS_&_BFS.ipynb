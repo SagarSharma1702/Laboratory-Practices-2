{
  "nbformat": 4,
  "nbformat_minor": 0,
  "metadata": {
    "colab": {
      "provenance": [],
      "authorship_tag": "ABX9TyO5X2q5dGJ9zJvNNCKpz4UP",
      "include_colab_link": true
    },
    "kernelspec": {
      "name": "python3",
      "display_name": "Python 3"
    },
    "language_info": {
      "name": "python"
    }
  },
  "cells": [
    {
      "cell_type": "markdown",
      "metadata": {
        "id": "view-in-github",
        "colab_type": "text"
      },
      "source": [
        "<a href=\"https://colab.research.google.com/github/SagarSharma1702/Laboratory-Practices-2/blob/main/DFS_%26_BFS.ipynb\" target=\"_parent\"><img src=\"https://colab.research.google.com/assets/colab-badge.svg\" alt=\"Open In Colab\"/></a>"
      ]
    },
    {
      "cell_type": "markdown",
      "source": [
        "# DFS and BFS with static input :"
      ],
      "metadata": {
        "id": "3oILEJS0W0cU"
      }
    },
    {
      "cell_type": "code",
      "execution_count": 1,
      "metadata": {
        "colab": {
          "base_uri": "https://localhost:8080/"
        },
        "id": "GBarmeiOVJ_y",
        "outputId": "df278005-7948-4827-bb37-3ff86ee98025"
      },
      "outputs": [
        {
          "output_type": "stream",
          "name": "stdout",
          "text": [
            "DFS Traversal:\n",
            "0 1 3 4 2 5 6 \n",
            "BFS Traversal:\n",
            "0 1 2 3 4 5 6 \n"
          ]
        }
      ],
      "source": [
        "# DFS and BFS with static input :\n",
        "from collections import deque\n",
        "\n",
        "# Class representing a graph\n",
        "class Graph:\n",
        "    def __init__(self, vertices):\n",
        "        self.V = vertices\n",
        "        self.adj_list = [[] for _ in range(vertices)]\n",
        "    \n",
        "    def add_edge(self, u, v):\n",
        "        self.adj_list[u].append(v)\n",
        "        self.adj_list[v].append(u)\n",
        "\n",
        "    # Depth First Search (DFS) algorithm\n",
        "    def dfs(self, v, visited):\n",
        "        visited.add(v)\n",
        "        print(v, end=\" \")\n",
        "\n",
        "        for neighbor in self.adj_list[v]:\n",
        "            if neighbor not in visited:\n",
        "                self.dfs(neighbor, visited)\n",
        "\n",
        "    def dfs_traversal(self, start):\n",
        "        visited = set()\n",
        "        self.dfs(start, visited)\n",
        "        print()\n",
        "\n",
        "    # Breadth First Search (BFS) algorithm\n",
        "    def bfs(self, start):\n",
        "        visited = set()\n",
        "        queue = deque()\n",
        "        queue.append(start)\n",
        "        visited.add(start)\n",
        "\n",
        "        while queue:\n",
        "            v = queue.popleft()\n",
        "            print(v, end=\" \")\n",
        "\n",
        "            for neighbor in self.adj_list[v]:\n",
        "                if neighbor not in visited:\n",
        "                    queue.append(neighbor)\n",
        "                    visited.add(neighbor)\n",
        "\n",
        "        print()\n",
        "\n",
        "# Example usage\n",
        "g = Graph(7)\n",
        "g.add_edge(0, 1)\n",
        "g.add_edge(0, 2)\n",
        "g.add_edge(1, 3)\n",
        "g.add_edge(1, 4)\n",
        "g.add_edge(2, 5)\n",
        "g.add_edge(2, 6)\n",
        "\n",
        "print(\"DFS Traversal:\")\n",
        "g.dfs_traversal(0)\n",
        "\n",
        "print(\"BFS Traversal:\")\n",
        "g.bfs(0)\n"
      ]
    },
    {
      "cell_type": "markdown",
      "source": [
        "# DFS and BFS with taking input from user :"
      ],
      "metadata": {
        "id": "MpkuXHFbW8iF"
      }
    },
    {
      "cell_type": "code",
      "source": [
        "# DFS and BFS with taking input from user :\n",
        "from collections import deque\n",
        "\n",
        "# Class representing a graph\n",
        "class Graph:\n",
        "    def __init__(self, vertices):\n",
        "        self.V = vertices\n",
        "        self.adj_list = [[] for _ in range(vertices)]\n",
        "    \n",
        "    def add_edge(self, u, v):\n",
        "        self.adj_list[u].append(v)\n",
        "        self.adj_list[v].append(u)\n",
        "\n",
        "    # Depth First Search (DFS) algorithm\n",
        "    def dfs(self, v, visited):\n",
        "        visited.add(v)\n",
        "        print(v, end=\" \")\n",
        "\n",
        "        for neighbor in self.adj_list[v]:\n",
        "            if neighbor not in visited:\n",
        "                self.dfs(neighbor, visited)\n",
        "\n",
        "    def dfs_traversal(self, start):\n",
        "        visited = set()\n",
        "        self.dfs(start, visited)\n",
        "        print()\n",
        "\n",
        "    # Breadth First Search (BFS) algorithm\n",
        "    def bfs(self, start):\n",
        "        visited = set()\n",
        "        queue = deque()\n",
        "        queue.append(start)\n",
        "        visited.add(start)\n",
        "\n",
        "        while queue:\n",
        "            v = queue.popleft()\n",
        "            print(v, end=\" \")\n",
        "\n",
        "            for neighbor in self.adj_list[v]:\n",
        "                if neighbor not in visited:\n",
        "                    queue.append(neighbor)\n",
        "                    visited.add(neighbor)\n",
        "\n",
        "        print()\n",
        "\n",
        "# Create a graph from user input\n",
        "V = int(input(\"Enter the number of vertices: \"))\n",
        "g = Graph(V)\n",
        "\n",
        "E = int(input(\"Enter the number of edges: \"))\n",
        "print(\"Enter the edges in the format 'u v', where u and v are vertices connected by an edge:\")\n",
        "\n",
        "for _ in range(E):\n",
        "    u, v = map(int, input().split())\n",
        "    g.add_edge(u, v)\n",
        "\n",
        "start_vertex = int(input(\"Enter the starting vertex for traversal: \"))\n",
        "\n",
        "# Perform DFS traversal\n",
        "print(\"DFS Traversal:\")\n",
        "g.dfs_traversal(start_vertex)\n",
        "\n",
        "# Perform BFS traversal\n",
        "print(\"BFS Traversal:\")\n",
        "g.bfs(start_vertex)\n"
      ],
      "metadata": {
        "colab": {
          "base_uri": "https://localhost:8080/"
        },
        "id": "mJVAHxJCV3z1",
        "outputId": "8dc82925-171f-4084-f5c3-ee077d1daf4e"
      },
      "execution_count": 3,
      "outputs": [
        {
          "output_type": "stream",
          "name": "stdout",
          "text": [
            "Enter the number of vertices: 7\n",
            "Enter the number of edges: 6\n",
            "Enter the edges in the format 'u v', where u and v are vertices connected by an edge:\n",
            "0 1\n",
            "0 2\n",
            "1 3\n",
            "1 4\n",
            "2 5\n",
            "2 6\n",
            "Enter the starting vertex for traversal: 0\n",
            "DFS Traversal:\n",
            "0 1 3 4 2 5 6 \n",
            "BFS Traversal:\n",
            "0 1 2 3 4 5 6 \n"
          ]
        }
      ]
    }
  ]
}