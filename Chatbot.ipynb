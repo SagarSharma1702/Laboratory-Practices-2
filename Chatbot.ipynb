{
  "cells": [
    {
      "cell_type": "markdown",
      "metadata": {
        "id": "view-in-github",
        "colab_type": "text"
      },
      "source": [
        "<a href=\"https://colab.research.google.com/github/SagarSharma1702/Laboratory-Practices-2/blob/main/Chatbot.ipynb\" target=\"_parent\"><img src=\"https://colab.research.google.com/assets/colab-badge.svg\" alt=\"Open In Colab\"/></a>"
      ]
    },
    {
      "cell_type": "code",
      "execution_count": null,
      "metadata": {
        "colab": {
          "base_uri": "https://localhost:8080/"
        },
        "id": "HycVyYUD8yuK",
        "outputId": "92c1dc49-d350-4fd3-a8c2-7abfa3a7ad50"
      },
      "outputs": [
        {
          "output_type": "stream",
          "name": "stdout",
          "text": [
            "Welcome to our restaurant!\n",
            "Here is our menu:\n",
            "- Pani puri: Rs.20\n",
            "- Pav bhaji: Rs.40\n",
            "- Vada pav: Rs.15\n",
            "- Pizza: Rs.100\n",
            "- Tea: Rs.10\n",
            "- Coffee: Rs.20\n",
            "What would you like to order? (Type 'Total' to view total price & 'Checkout' to exit): tea\n",
            "Okay, I added Tea to your order. Anything else?\n",
            "What would you like to order? (Type 'Total' to view total price & 'Checkout' to exit): coffee\n",
            "Okay, I added Coffee to your order. Anything else?\n",
            "What would you like to order? (Type 'Total' to view total price & 'Checkout' to exit): Total\n",
            "Your current order total is: Rs.30\n",
            "What would you like to order? (Type 'Total' to view total price & 'Checkout' to exit): Checkout\n",
            "Your final order total is: Rs.30\n",
            "Thank you for your order!\n"
          ]
        }
      ],
      "source": [
        "from collections.abc import ItemsView\n",
        "# Define a dictionary of food items with their corresponding prices\n",
        "menu = {\n",
        "    \"Pani puri\": 20,\n",
        "    \"Pav bhaji\": 40,\n",
        "    \"Vada pav\": 15,\n",
        "    \"Pizza\": 100,\n",
        "    \"Tea\": 10,\n",
        "    \"Coffee\" : 20\n",
        "}\n",
        "\n",
        "# Define a function to display the menu options\n",
        "def display_menu():\n",
        "    print(\"Welcome to our restaurant!\")\n",
        "    print(\"Here is our menu:\")\n",
        "    for item, price in menu.items():\n",
        "        print(f\"- {item}: Rs.{price}\")\n",
        "        \n",
        "# initialise the order total to 0\n",
        "order_total = 0\n",
        "\n",
        "# Run the chatbot\n",
        "display_menu()\n",
        "\n",
        "# Define a function to handle user input and make selections\n",
        "while True:\n",
        "   # wait for the user to input a food item\n",
        "   food_item = input(\"What would you like to order? (Type 'Total' to view total price & 'Checkout' to exit): \").title()\n",
        "\n",
        "   if food_item in menu:\n",
        "       # if the food item is available, add its price to the order total\n",
        "       order_total += menu[food_item]\n",
        "       print(\"Okay, I added \" + food_item + \" to your order. Anything else?\")\n",
        "   elif food_item == \"Total\":\n",
        "       # if the user types \"total,\" show the current order total\n",
        "       print(\"Your current order total is: Rs.\" + str(order_total))\n",
        "   elif food_item == \"Checkout\":\n",
        "       # if the user types \"checkout,\" show the final order total and end the program\n",
        "       print(\"Your final order total is: Rs.\" + str(order_total))\n",
        "       print(\"Thank you for your order!\")\n",
        "       break\n",
        "   else:\n",
        "       # if the food item is not available, inform the user\n",
        "       print(\"Sorry, we don't have \" + food_item + \" in our menu. Please try again.\")\n",
        "\n",
        "\n",
        "\n"
      ]
    }
  ],
  "metadata": {
    "colab": {
      "provenance": [],
      "authorship_tag": "ABX9TyMcDY6ujy1tRj30yLQ2MpGr",
      "include_colab_link": true
    },
    "kernelspec": {
      "display_name": "Python 3",
      "name": "python3"
    },
    "language_info": {
      "name": "python"
    }
  },
  "nbformat": 4,
  "nbformat_minor": 0
}