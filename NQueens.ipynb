{
  "nbformat": 4,
  "nbformat_minor": 0,
  "metadata": {
    "colab": {
      "provenance": [],
      "authorship_tag": "ABX9TyNY+kpqnLZtqpkHes0/5Wz1",
      "include_colab_link": true
    },
    "kernelspec": {
      "name": "python3",
      "display_name": "Python 3"
    },
    "language_info": {
      "name": "python"
    }
  },
  "cells": [
    {
      "cell_type": "markdown",
      "metadata": {
        "id": "view-in-github",
        "colab_type": "text"
      },
      "source": [
        "<a href=\"https://colab.research.google.com/github/SagarSharma1702/Laboratory-Practices-2/blob/main/NQueens.ipynb\" target=\"_parent\"><img src=\"https://colab.research.google.com/assets/colab-badge.svg\" alt=\"Open In Colab\"/></a>"
      ]
    },
    {
      "cell_type": "markdown",
      "source": [
        "CPP Code : [Click](https://docs.google.com/document/d/1JPVEQt9UsNYLFVr0BqxY4b4tKbIt1qEUllNzWOEFSJY/edit?usp=share_link)"
      ],
      "metadata": {
        "id": "Xt66Pr4t27EY"
      }
    },
    {
      "cell_type": "code",
      "execution_count": 5,
      "metadata": {
        "colab": {
          "base_uri": "https://localhost:8080/"
        },
        "id": "QfqModuy2Qpi",
        "outputId": "cf92adb7-b875-41b8-f7d6-9fefc3cfaef0"
      },
      "outputs": [
        {
          "output_type": "stream",
          "name": "stdout",
          "text": [
            "Found 2 solution(s) for 4-queens:\n",
            "0 0 1 0\n",
            "1 0 0 0\n",
            "0 0 0 1\n",
            "0 1 0 0\n",
            "\n",
            "0 1 0 0\n",
            "0 0 0 1\n",
            "1 0 0 0\n",
            "0 0 1 0\n",
            "\n"
          ]
        }
      ],
      "source": [
        "class NQueens:\n",
        "    def __init__(self, n):\n",
        "        self.n = n\n",
        "        self.board = [[0] * n for _ in range(n)]\n",
        "        self.solution = []\n",
        "\n",
        "    def is_safe(self, row, col):\n",
        "        # Check if it is safe to place a queen at board[row][col]\n",
        "        # Check the row\n",
        "        for i in range(col):\n",
        "            if self.board[row][i] == 1:\n",
        "                return False\n",
        "\n",
        "        # Check the upper diagonal on the left side\n",
        "        i = row\n",
        "        j = col\n",
        "        while i >= 0 and j >= 0:\n",
        "            if self.board[i][j] == 1:\n",
        "                return False\n",
        "            i -= 1\n",
        "            j -= 1\n",
        "\n",
        "        # Check the lower diagonal on the left side\n",
        "        i = row\n",
        "        j = col\n",
        "        while j >= 0 and i < self.n:\n",
        "            if self.board[i][j] == 1:\n",
        "                return False\n",
        "            i += 1\n",
        "            j -= 1\n",
        "\n",
        "        return True\n",
        "\n",
        "    def solve_nqueens(self, col):\n",
        "        if col == self.n:\n",
        "            # All queens have been placed, add the solution to the result\n",
        "            self.solution.append([row[:] for row in self.board])\n",
        "            return True\n",
        "\n",
        "        for row in range(self.n):\n",
        "            if self.is_safe(row, col):\n",
        "                # Place the queen on the board\n",
        "                self.board[row][col] = 1\n",
        "\n",
        "                # Recur to place the remaining queens\n",
        "                self.solve_nqueens(col + 1)\n",
        "\n",
        "                # Backtrack and remove the queen from the board\n",
        "                self.board[row][col] = 0\n",
        "\n",
        "    def solve(self):\n",
        "        self.solve_nqueens(0)\n",
        "        return self.solution\n",
        "n = 4\n",
        "queens = NQueens(n)\n",
        "solutions = queens.solve()\n",
        "\n",
        "if solutions:\n",
        "    print(f\"Found {len(solutions)} solution(s) for {n}-queens:\")\n",
        "    for solution in solutions:\n",
        "        for row in solution:\n",
        "            print(' '.join(map(str, row)))\n",
        "        print()\n",
        "else:\n",
        "    print(f\"No solution found for {n}-queens.\")\n"
      ]
    }
  ]
}